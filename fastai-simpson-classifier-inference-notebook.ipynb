{
 "cells": [
  {
   "cell_type": "code",
   "execution_count": 1,
   "metadata": {},
   "outputs": [
    {
     "data": {
      "application/vnd.jupyter.widget-view+json": {
       "model_id": "04e4fe15e6fe44a79a2cd8145e13510b",
       "version_major": 2,
       "version_minor": 0
      },
      "text/plain": [
       "VBox(children=(Label(value='Select your Simpson Image!'), FileUpload(value={}, description='Upload'), Button(d…"
      ]
     },
     "metadata": {},
     "output_type": "display_data"
    }
   ],
   "source": [
    "import numpy as np\n",
    "from fastai.vision.all import *\n",
    "from fastai.vision.widgets import * \n",
    "\n",
    "# Get inference learner\n",
    "learn_inf = load_learner('export.pkl')\n",
    "\n",
    "# create widgets\n",
    "btn_upload = widgets.FileUpload()\n",
    "\n",
    "if len(btn_upload.data) > 0:\n",
    "    img = PILImage.create(btn_upload.data[-1])\n",
    "else:\n",
    "    img = PILImage.create(np.random.random((500,500))).convert('RGB')\n",
    "out_pl = widgets.Output()\n",
    "out_pl.clear_output()\n",
    "with out_pl: display(img.to_thumb(128,128))\n",
    "\n",
    "lbl_pred = widgets.Label()\n",
    "\n",
    "btn_run = widgets.Button(description='Classify')\n",
    "\n",
    "def on_click_classify(change):\n",
    "    if len(btn_upload.data) > 0:\n",
    "        img = PILImage.create(btn_upload.data[-1])\n",
    "        out_pl.clear_output()\n",
    "        with out_pl: display(img.to_thumb(128,128))\n",
    "        pred,pred_idx,probs = learn_inf.predict(img)\n",
    "        lbl_pred.value = f'Prediction: {pred}; Probability: {probs[pred_idx]:.04f}'\n",
    "    else:\n",
    "        lbl_pred.value = 'Please select an image to classify by using the \"Upload\" button'\n",
    "\n",
    "btn_run.on_click(on_click_classify)\n",
    "\n",
    "VBox([widgets.Label('Select your Simpson Image!'), \n",
    "      btn_upload, btn_run, out_pl, lbl_pred])"
   ]
  }
 ],
 "metadata": {
  "kernelspec": {
   "display_name": "Python 3",
   "language": "python",
   "name": "python3"
  },
  "language_info": {
   "codemirror_mode": {
    "name": "ipython",
    "version": 3
   },
   "file_extension": ".py",
   "mimetype": "text/x-python",
   "name": "python",
   "nbconvert_exporter": "python",
   "pygments_lexer": "ipython3",
   "version": "3.7.8"
  }
 },
 "nbformat": 4,
 "nbformat_minor": 4
}
